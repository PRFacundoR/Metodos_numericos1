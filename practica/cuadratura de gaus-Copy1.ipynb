[InternetShortcut]
URL=http://localhost:8888/notebooks/cuadratura%20de%20gaus-Copy1.ipynb
IDList=
HotKey=0
IconFile=C:\Users\Alumno\AppData\Local\Mozilla\Firefox\Profiles\gcuv30od.default-release\shortcutCache\gds8NT1s2QZDJxUdfzTNm_WTKsoIJajSYKplqSsUoHY=.ico
IconIndex=0
