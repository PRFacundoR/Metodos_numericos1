{
 "cells": [
  {
   "cell_type": "markdown",
   "id": "93862089-1a9f-4556-8f1d-68070b6f4317",
   "metadata": {},
   "source": [
    "1)Metodo de matrices\n",
    "\n"
   ]
  },
  {
   "cell_type": "code",
   "execution_count": 14,
   "id": "48e8ae52-f0d7-4678-ad8a-36c8d837bc13",
   "metadata": {},
   "outputs": [],
   "source": [
    "def metodo_gaus(A, B, n):\n",
    "    \"\"\"\n",
    "    Realiza la triangulación de Gauss sobre A, y devuelve la solución del sistema.\n",
    "    A: matriz de coeficientes (modificada en el proceso)\n",
    "    B: vector de términos independientes\n",
    "    n: dimensión del sistema\n",
    "    \"\"\"\n",
    "\n",
    "    # Fase de TRIANGULACIÓN: construimos una matriz triangular inferior L y una superior U\n",
    "    for k in range(0, n):  # 🔁 Recorremos columnas (y filas diagonales): pivote actual 📌 k = índice del pivote → estamos en la fila k (pivote) y columna k\n",
    "\n",
    "        for i in range(k + 1, n):  # 🔁 Recorremos las filas debajo del pivote (columna k fija)  📌 i = fila actual que quiero modificar, debajo del pivote\n",
    "            m= A[i][k] / A[k][k]  # (coef multiplicativo para eliminar A[i][k])  A[i][k] ahora guarda el multiplicador que convierte en 0 a A[i][k] real\n",
    "\n",
    "            for j in range(k + 1, n):  # 🔁 Recorremos columnas a la derecha del pivote 📌 j = columna actual dentro de la fila i\n",
    "                A[i][j] -= m * A[k][j]  # eliminamos valores usando fila pivote\n",
    "\n",
    "    # Llamamos a la sustitución (Ly = b y luego Ux = y)\n",
    "    return Sustitucion(A, B, n)\n",
    "\n",
    "\n",
    "def Sustitucion(A, B, n):\n",
    "    \"\"\"\n",
    "    Realiza dos fases:\n",
    "    1. Sustitución hacia adelante para resolver Ly = b\n",
    "    2. Sustitución hacia atrás para resolver Ux = y\n",
    "    \"\"\"\n",
    "\n",
    "    x = [0] * n  # Inicializamos vector solución\n",
    "\n",
    "    # 1️⃣ Sustitución hacia adelante (Ly = b)\n",
    "    # L tiene los multiplicadores m = A[i][k] debajo de la diagonal\n",
    "    \n",
    "    x[0] = B[0]  # Primer valor conocido directamente\n",
    "\n",
    "    for i in range(1, n):  # 🔁 Vamos fila por fila desde la 2da (fila 1 hasta n-1)\n",
    "        suma = 0\n",
    "        \n",
    "        for j in range(0, i):  # 🔁 Recorremos columnas anteriores (columna j en fila i) # 📌 A[i][j] multiplica incógnita ya conocida x[j]\n",
    "            suma += A[i][j] * x[j]\n",
    "            \n",
    "        x[i] = B[i] - suma  # Despejamos y[i] = b[i] - suma de términos anteriores\n",
    "\n",
    "\n",
    "\n",
    "    \n",
    "\n",
    "    # 2️⃣ Sustitución hacia atrás (Ux = y) – resolvemos con matriz triangular superior\n",
    "    x[n - 1] = x[n - 1] / A[n - 1][n - 1]  # Última incógnita directamente\n",
    "\n",
    "    for i in range(n - 2, -1, -1):  # 🔁 Vamos de abajo hacia arriba (fila i)\n",
    "        suma = 0\n",
    "        \n",
    "        for j in range(i + 1, n):  # 🔁 Recorremos columnas posteriores 📌 U[i][j] multiplica a x[j], ya calculada\n",
    "            suma += A[i][j] * x[j]\n",
    "\n",
    "        x[i] = (x[i] - suma) / A[i][i]  # Despejamos x[i]\n",
    "       \n",
    "    return x"
   ]
  },
  {
   "cell_type": "code",
   "execution_count": 15,
   "id": "c0130e6e-3d14-4096-8ec2-15c318aa6482",
   "metadata": {},
   "outputs": [
    {
     "name": "stdout",
     "output_type": "stream",
     "text": [
      "suma parcial en L[1][0] * x[0] = 0.0 * 0\n",
      "x[1] (sust. adelante) = 3.0\n",
      "suma parcial en L[2][0] * x[0] = -0.5 * 0\n",
      "suma parcial en L[2][1] * x[1] = 0.25 * 3.0\n",
      "x[2] (sust. adelante) = -0.25\n",
      "x[1] (sust. atrás) = 1.0\n",
      "x[0] (sust. atrás) = 1.0\n",
      "[1.0, 1.0, 1.0]\n"
     ]
    }
   ],
   "source": [
    "A = [\n",
    "    [2, -1, -1],\n",
    "    [0,  2,  1],\n",
    "    [-1, 1, 0.5]\n",
    "]\n",
    "\n",
    "# Vector b\n",
    "b = [0, 3, 0.5]\n",
    "\n",
    "# Tamaño\n",
    "n = len(A)\n",
    "\n",
    "print(metodo_gaus(A,b,n))\n"
   ]
  },
  {
   "cell_type": "code",
   "execution_count": 16,
   "id": "10263877-07fb-4690-bf34-b7741ade8782",
   "metadata": {},
   "outputs": [
    {
     "ename": "IndentationError",
     "evalue": "expected an indented block after 'for' statement on line 6 (1521543588.py, line 9)",
     "output_type": "error",
     "traceback": [
      "\u001b[1;36m  Cell \u001b[1;32mIn[16], line 9\u001b[1;36m\u001b[0m\n\u001b[1;33m    return Sustitucion(A, B, n)\u001b[0m\n\u001b[1;37m    ^\u001b[0m\n\u001b[1;31mIndentationError\u001b[0m\u001b[1;31m:\u001b[0m expected an indented block after 'for' statement on line 6\n"
     ]
    }
   ],
   "source": [
    "def metodo_Cholensky(A,b,n):\n",
    "    for k in range(0,n):\n",
    "\n",
    "        for i in range(k, n):\n",
    "              \n",
    "            for j in range(i+1,n):\n",
    "               \n",
    "                    \n",
    "    return Sustitucion(A, B, n)"
   ]
  },
  {
   "cell_type": "code",
   "execution_count": 75,
   "id": "30c2377d-819b-4b70-aea9-8d9b0944e184",
   "metadata": {},
   "outputs": [],
   "source": [
    "def triangulacionParcial(A, b, n):\n",
    "    for k in range(n):\n",
    "\n",
    "        \n",
    "        # Pivoteo parcial por columna\n",
    "        max_row = max(range(k, n), key=lambda i: abs(A[i][k]))\n",
    "        if A[max_row][k] == 0:\n",
    "            raise ValueError(\"Matriz singular\")\n",
    "\n",
    "\n",
    "        \n",
    "        # Intercambio de filas en A y b\n",
    "        A[k], A[max_row] = A[max_row], A[k]\n",
    "        b[k], b[max_row] = b[max_row], b[k]\n",
    "\n",
    "\n",
    "        \n",
    "\n",
    "        #igual que en triangulacion simple\n",
    "        for i in range(k + 1, n):\n",
    "            A[i][k] /= A[k][k]\n",
    "            for j in range(k + 1, n):\n",
    "                A[i][j] -= A[i][k] * A[k][j]\n",
    "\n",
    "\n",
    "\n",
    "    \n",
    "    return sustitucion(A, b, n)"
   ]
  },
  {
   "cell_type": "code",
   "execution_count": 70,
   "id": "41a46ff1-cccf-4d54-bcd1-6d893882beff",
   "metadata": {},
   "outputs": [
    {
     "name": "stdout",
     "output_type": "stream",
     "text": [
      "[0, 1, 0]\n"
     ]
    }
   ],
   "source": [
    "def triangulacionParcialEscalada(A, b, n): #mejor metodo\n",
    "    s = [max(abs(A[i][j]) for j in range(n)) for i in range(n)]  # factores de escala\n",
    "\n",
    "    for k in range(n):\n",
    "        # Buscar el índice con el mayor cociente relativo, de aca para \n",
    "        max_ratio = -1\n",
    "        max_row = k\n",
    "        \n",
    "        for i in range(k, n):\n",
    "            \n",
    "            if s[i] == 0:\n",
    "                raise ValueError(\"Fila con todos ceros en A\")\n",
    "                \n",
    "            ratio = abs(A[i][k]) / s[i]\n",
    "            \n",
    "            if ratio > max_ratio:\n",
    "                max_ratio = ratio\n",
    "                max_row = i\n",
    "\n",
    "        # Intercambio de filas \n",
    "        A[k], A[max_row] = A[max_row], A[k]\n",
    "        b[k], b[max_row] = b[max_row], b[k]\n",
    "        s[k], s[max_row] = s[max_row], s[k]\n",
    "        #para aca se agrega nueva cosas\n",
    "\n",
    "        \n",
    "        \n",
    "        #igual que en triangulacion simple\n",
    "        for i in range(k + 1, n):\n",
    "            A[i][k] /= A[k][k]\n",
    "            for j in range(k + 1, n):\n",
    "                A[i][j] -= A[i][k] * A[k][j]\n",
    "\n",
    "    return sustitucion(A, b, n)"
   ]
  },
  {
   "cell_type": "code",
   "execution_count": 76,
   "id": "d3701066-847d-4fa9-8114-f4846a192027",
   "metadata": {},
   "outputs": [],
   "source": [
    "def jacobi(A, b, max_iter, eps):\n",
    "    #mido la longuitud de la matriz y creo 2 una nueva y vieja\n",
    "    n = len(A)\n",
    "    x_old = [0.0] * n\n",
    "    x_new = [0.0] * n\n",
    "\n",
    "    for k in range(1, max_iter + 1):\n",
    "        \n",
    "        for i in range(n):\n",
    "            \n",
    "            suma = 0.0\n",
    "            \n",
    "            for j in range(n):\n",
    "                \n",
    "                if j != i: \n",
    "                    suma += A[i][j] * x_old[j]\n",
    "                    \n",
    "            x_new[i] = (b[i] - suma) / A[i][i]\n",
    "\n",
    "        # Criterio de convergencia\n",
    "        error = max(abs(x_new[i] - x_old[i]) for i in range(n))\n",
    "\n",
    "        # Imprimir iteración y error\n",
    "        print(f\"Iteración {k}: error = {error:.6f}\")\n",
    "\n",
    "        if error < eps:\n",
    "            return x_new\n",
    "\n",
    "        x_old = x_new[:]\n",
    "\n",
    "    return x_new\n",
    "\n"
   ]
  },
  {
   "cell_type": "code",
   "execution_count": null,
   "id": "51876e48-1287-4915-a1e7-a6209ef676f5",
   "metadata": {},
   "outputs": [],
   "source": [
    "def GaussSeidel(A, b, max_iter, eps):\n",
    "    n = len(A)\n",
    "    x_old = [0.0] * n #RESULTADO VIEJO\n",
    "    x_new = [0.0] * n\n",
    "\n",
    "    for k in range(1, max_iter + 1):\n",
    "        for i in range(n):\n",
    "            suma = 0.0\n",
    "            \n",
    "            for j in range(n):\n",
    "                if j < i:\n",
    "                    suma += A[i][j] * x_new[j]  # valores nuevos\n",
    "                elif j > i:\n",
    "                    suma += A[i][j] * x_old[j]  # valores viejos\n",
    "\n",
    "            x_new[i] = (b[i] - suma) / A[i][i]\n",
    "\n",
    "        error = max(abs(x_new[i] - x_old[i]) for i in range(n))\n",
    "        \n",
    "        print(f\"Iteración {k}: error = {error:.6f}\")\n",
    "\n",
    "        if error < eps:\n",
    "            return x_new\n",
    "\n",
    "        x_old = x_new[:]\n",
    "\n",
    "    return x_new\n"
   ]
  },
  {
   "cell_type": "code",
   "execution_count": null,
   "id": "440f3a21-48f5-400e-abd9-e2aed8ce74b8",
   "metadata": {},
   "outputs": [],
   "source": [
    "def SOR(A, b, max_iter, eps, omega):\n",
    "    n = len(A)\n",
    "    x_old = [0.0] * n\n",
    "    x_new = [0.0] * n\n",
    "\n",
    "    for k in range(1, max_iter + 1):\n",
    "        for i in range(n):\n",
    "            suma = 0.0\n",
    "            # suma para j < i con valores nuevos\n",
    "            for j in range(i):\n",
    "                suma += A[i][j] * x_new[j]\n",
    "            # suma para j > i con valores viejos\n",
    "            for j in range(i+1, n):\n",
    "                suma += A[i][j] * x_old[j]\n",
    "\n",
    "            # Fórmula SOR:\n",
    "            x_i_old = x_old[i]\n",
    "            x_new[i] = (1 - omega) * x_i_old + (omega * (b[i] - suma)) / A[i][i]\n",
    "\n",
    "        error = max(abs(x_new[i] - x_old[i]) for i in range(n))\n",
    "        print(f\"Iteración {k}: error = {error:.6f}\")\n",
    "\n",
    "        if error < eps:\n",
    "            return x_new\n",
    "\n",
    "        x_old = x_new[:]\n",
    "\n",
    "    return x_new"
   ]
  },
  {
   "cell_type": "code",
   "execution_count": 77,
   "id": "3119aa53-0baa-4b7e-b23d-83b7139e3bea",
   "metadata": {},
   "outputs": [],
   "source": [
    "def DifDiv(x,d,n):\n",
    "    for i in range(0,n):\n",
    "        for j in range(n-1,i-1,-1):\n",
    "            d[j]=(d[j]-d[j-1])/(x[j]-x[j-i])\n",
    "    return d"
   ]
  },
  {
   "cell_type": "code",
   "execution_count": 81,
   "id": "5d4308d6-640b-4c3f-bb42-31d9e95cc4cf",
   "metadata": {},
   "outputs": [
    {
     "data": {
      "image/png": "[encoded data removed]",
      "text/plain": [
       "<Figure size 640x480 with 1 Axes>"
      ]
     },
     "metadata": {},
     "output_type": "display_data"
    },
    {
     "data": {
      "text/plain": [
       "\"\\nLa función CubicSpline(x, y, bc_type='natural') crea una interpolación suave entre los puntos dados usando polinomios cúbicos por tramos. Es parte de scipy.interpolate.\\n\\n🔹 Parámetros de entrada:\\nx: array con los valores del eje independiente (ordenados).\\n\\ny: array con los valores del eje dependiente (función evaluada en cada x).\\n\\nbc_type: define las condiciones de frontera.\\n\\n'natural' (por defecto): la segunda derivada es cero en los extremos.\\n\\n'clamped': se dan derivadas en los extremos.\\n\\n🔹 Resultado:\\nDevuelve un objeto tipo función, que:\\n\\nPodés usar como spline(valor) para obtener f(valor).\\n\\nTambién podés evaluar derivadas: spline(valor, nu=1) para la primera derivada, nu=2 para la segunda, etc.\\n\""
      ]
     },
     "execution_count": 81,
     "metadata": {},
     "output_type": "execute_result"
    }
   ],
   "source": [
    "import numpy as np\n",
    "from scipy.interpolate import CubicSpline\n",
    "import matplotlib.pyplot as plt\n",
    "\n",
    "x = np.array([0.9, 1.3, 1.9, 2.1, 2.6, 3.0, 3.9, 4.4, 4.7, 5.0, 6.0, 7.0,\n",
    "              8.0, 9.2, 10.5, 11.3, 11.6, 12.0, 12.6, 13.0, 13.3])\n",
    "y = np.array([1.3, 1.5, 1.85, 2.1, 2.6, 2.7, 2.4, 2.15, 2.05, 2.1,\n",
    "              2.25, 2.3, 2.25, 1.95, 1.4, 0.9, 0.7, 0.6, 0.5, 0.4, 0.25])\n",
    "spline = CubicSpline(x, y,bc_type='natural')\n",
    "x_fino = np.linspace(min(x), max(x), 500)\n",
    "y_fino = spline(x_fino)\n",
    "\n",
    "\n",
    "plt.plot(x_fino, y_fino, '-', label='Spline cúbico')\n",
    "plt.xlabel(\"x\")\n",
    "plt.ylabel(\"f(x)\")\n",
    "plt.show()\n",
    "\"\"\"\n",
    "La función CubicSpline(x, y, bc_type='natural') crea una interpolación suave entre los puntos dados usando polinomios cúbicos por tramos. Es parte de scipy.interpolate.\n",
    "\n",
    "🔹 Parámetros de entrada:\n",
    "x: array con los valores del eje independiente (ordenados).\n",
    "\n",
    "y: array con los valores del eje dependiente (función evaluada en cada x).\n",
    "\n",
    "bc_type: define las condiciones de frontera.\n",
    "\n",
    "'natural' (por defecto): la segunda derivada es cero en los extremos.\n",
    "\n",
    "'clamped': se dan derivadas en los extremos.\n",
    "\n",
    "🔹 Resultado:\n",
    "Devuelve un objeto tipo función, que:\n",
    "\n",
    "Podés usar como spline(valor) para obtener f(valor).\n",
    "\n",
    "También podés evaluar derivadas: spline(valor, nu=1) para la primera derivada, nu=2 para la segunda, etc.\n",
    "\"\"\"\n"
   ]
  },
  {
   "cell_type": "code",
   "execution_count": null,
   "id": "92c1efb1-d31c-4f88-90b6-517b2cdfea1a",
   "metadata": {},
   "outputs": [],
   "source": []
  }
 ],
 "metadata": {
  "kernelspec": {
   "display_name": "Python 3 (ipykernel)",
   "language": "python",
   "name": "python3"
  },
  "language_info": {
   "codemirror_mode": {
    "name": "ipython",
    "version": 3
   },
   "file_extension": ".py",
   "mimetype": "text/x-python",
   "name": "python",
   "nbconvert_exporter": "python",
   "pygments_lexer": "ipython3",
   "version": "3.12.7"
  }
 },
 "nbformat": 4,
 "nbformat_minor": 5
}
