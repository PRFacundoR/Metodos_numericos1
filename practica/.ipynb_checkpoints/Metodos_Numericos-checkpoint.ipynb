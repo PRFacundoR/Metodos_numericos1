{
 "cells": [
  {
   "cell_type": "code",
   "execution_count": null,
   "id": "72e063d0-03a7-4c0d-b183-606e2f2abf7b",
   "metadata": {},
   "outputs": [],
   "source": [
    "import numpy as np\n",
    "def Metodo_Biseccion(a,b,f, maxIter, eps):#f continua en [a,b]?\n",
    "    it=1\n",
    "    p=(a+b)/2\n",
    "    while(it<=maxIter and np.abs(f(p)) > eps):\n",
    "        \n",
    "        it+=1\n",
    "        \n",
    "        if f(a)*f(p)>0:\n",
    "            a=p\n",
    "        else:\n",
    "            b=p\n",
    "        p = (a + b) / 2\n",
    "    error=np.abs(f(p))\n",
    "    if it>maxIter:\n",
    "        print(f\"no converge en {maxIter} y el error es {error}\")\n",
    "    else:\n",
    "       return p, it, error\n",
    "          "
   ]
  },
  {
   "cell_type": "code",
   "execution_count": null,
   "id": "1b95f78a-a618-4bdf-91f3-b9be671a7660",
   "metadata": {},
   "outputs": [],
   "source": []
  },
  {
   "cell_type": "code",
   "execution_count": null,
   "id": "308469a0-2982-4e8f-b2ab-cec23230e5ef",
   "metadata": {},
   "outputs": [],
   "source": [
    "import numpy as np\n",
    "def Metodo_RegulaFalsi(a,b,f, maxIter, eps):#f continua en [a,b]?\n",
    "    it=1\n",
    "    x=b- ((f(b)*(b-a))/(f(b)-f(a)))\n",
    "    \n",
    "    while(it<=maxIter and np.abs(f(x))> eps):\n",
    "    \n",
    "        it+=1\n",
    "        if f(a)*f(x)>0:\n",
    "            a=x\n",
    "        else:\n",
    "            b=x\n",
    "        x=b- ((f(b)*(b-a))/(f(b)-f(a)))\n",
    "    error=np.abs(f(x))\n",
    "    if it>maxIter:\n",
    "        print(f\"no converge en {maxIter} y el error es {error}\")\n",
    "    else:\n",
    "       return x, it, error"
   ]
  },
  {
   "cell_type": "code",
   "execution_count": null,
   "id": "1e074480-5769-4ec9-84af-0077dc9dfd1e",
   "metadata": {},
   "outputs": [],
   "source": [
    "import numpy as np\n",
    "def Metodo_Secante(a,b,f, maxIter, eps):#f continua en [a,b]?\n",
    "    it=0\n",
    "    w=a #Xn-1\n",
    "    x=b #Xn\n",
    "    y=2*b #Xn+1\n",
    "    while(it<=maxIter and np.abs(y-x) > eps):\n",
    "        y=x- (( f(x)*(x-w) )/( f(x)-f(w) ))\n",
    "        w=x\n",
    "        x=y\n",
    "        it+=1\n",
    "    error=np.abs(y-x)\n",
    "   if it>maxIter:\n",
    "        print(f\"no converge en {maxIter} y el error es {error}\")\n",
    "    else:\n",
    "       return y, it, error"
   ]
  },
  {
   "cell_type": "code",
   "execution_count": null,
   "id": "41c21bf2-84ec-4e8f-99e7-20fc77f52350",
   "metadata": {},
   "outputs": [],
   "source": [
    "import numpy as np\n",
    "def Metodo_NR(x0,f, f_prima,maxIter, eps):#f continua en [a,b]?\n",
    "    it=0\n",
    "    x1=x0+2*eps\n",
    "    while(it<=maxIter and np.abs(x1-x0) > eps):\n",
    "        x1=x0- (f(x0)/f_prima(x0))\n",
    "        x0=x1\n",
    "        it+=1\n",
    "    error=np.abs(x1-x0)\n",
    "   if it>maxIter:\n",
    "        print(f\"no converge en {maxIter} y el error es {error}\")\n",
    "    else:\n",
    "       return x1, it, error"
   ]
  },
  {
   "cell_type": "code",
   "execution_count": 35,
   "id": "ee9bc4a6-c7ff-4023-87c2-746da6c3e3b3",
   "metadata": {},
   "outputs": [],
   "source": [
    "import numpy as np\n",
    "def Metodo_NR_Modificado(x0,f, f_prima,f_prima2,maxIter, eps):#f continua en [a,b]? metodo usadi caundo el cero de la funcion es de orden mayor a 2 y newtin puerde velocidad de convergencia\n",
    "    it=0\n",
    "    \n",
    "    while(it<=maxIter and np.abs(x1-x0)> eps):\n",
    "        x1=x0- (f(x0)*f_prima(x0)/((f_prima(x0)**2) - f(x0)*f_prima2(x0)))\n",
    "        x0=x1\n",
    "        it+=1\n",
    "    error=np.abs(x1-x0)\n",
    "    if it>maxIter:\n",
    "        print(f\"no converge en {maxIter} y el error es {error}\")\n",
    "    else:\n",
    "       return x1, it, error"
   ]
  },
  {
   "cell_type": "code",
   "execution_count": 1,
   "id": "ddc9a91e-d63c-432a-a13a-7aacabb578c5",
   "metadata": {},
   "outputs": [],
   "source": [
    "import numpy as np\n",
    "def Metodo_PuntoFijo(x0,g,maxIter, eps):#f continua en [a,b]?\n",
    "    it=0\n",
    "    x1=x0+2*eps\n",
    "    while(it<=maxIter and  np.abs(x1-x0) > eps):\n",
    "        x1=g(x0)\n",
    "        x0=x1\n",
    "        it+=1\n",
    "    error=np.abs(x1-x0)\n",
    "    if it>maxIter:\n",
    "        print(f\"no converge en {maxIter} y el error es {error}\")\n",
    "    else:\n",
    "       return x1, it, error"
   ]
  },
  {
   "cell_type": "code",
   "execution_count": 2,
   "id": "cb237bb7-dbc3-4153-85a7-8e512dfbf4ea",
   "metadata": {},
   "outputs": [],
   "source": [
    "import numpy as np\n",
    "def Metodo_STEFFENSEN(x0,g,maxIter, eps):#f continua en [a,b]?\n",
    "    it=0\n",
    "    x1=x0+2*eps\n",
    "    x2=0\n",
    "    xs=0\n",
    "    \n",
    "    while(it<=maxIter and np.abs(x1-x0)  > eps):\n",
    "        x1=g(x0)\n",
    "        x2=g(x1)\n",
    "        xs=x0 - ((x1-x0)**2/(x2-2*x1+x0))\n",
    "        x0=xs\n",
    "        it+=1\n",
    "    error=np.abs(x1-x0)\n",
    "    if it>maxIter:\n",
    "        print(f\"no converge en {maxIter} y el error es {error}\")#error lo pongo?\n",
    "    else:\n",
    "       return x0, it, error #asi? o muestro nomas?"
   ]
  },
  {
   "cell_type": "code",
   "execution_count": 3,
   "id": "81ab4055-6ca7-4c01-93b7-c0a965d2b4bd",
   "metadata": {},
   "outputs": [],
   "source": [
    "def horner_con_derivada(coeficientes, x0):\n",
    "    \"\"\"\n",
    "    Evalúa un polinomio y su derivada en x0 usando el método de Horner.\n",
    "    coeficientes: lista de coeficientes desde el mayor grado al menor.\n",
    "    Retorna: (p(x0), p'(x0))\n",
    "    \"\"\"\n",
    "    n = len(coeficientes)\n",
    "    y = coeficientes[0]  # P(x)\n",
    "    z = coeficientes[0]  # P'(x)\n",
    "\n",
    "    for i in range(1, n - 1):\n",
    "        y = y * x0 + coeficientes[i]\n",
    "        z = z * x0 + y\n",
    "\n",
    "    y = y * x0 + coeficientes[-1]  # último término\n",
    "    return y, z"
   ]
  },
  {
   "cell_type": "code",
   "execution_count": 4,
   "id": "bcc63bad-3eed-484b-9d7b-85e172a03b1c",
   "metadata": {},
   "outputs": [],
   "source": [
    "def Metodo_NR_Horner(x0, coef, maxIter, eps):\n",
    "    \"\"\"\n",
    "    Método de Newton-Raphson para polinomios, usando Horner.\n",
    "    coef: lista de coeficientes del polinomio (grado mayor a menor)\n",
    "    \"\"\"\n",
    "    it = 0\n",
    "    x1 = x0 + 2 * eps\n",
    "    \n",
    "    while it <= maxIter and np.abs(x1-x0) > eps:\n",
    "        fx, dfx = horner_con_derivada(coef, x0)\n",
    "        x1 = x0 - fx / dfx\n",
    "        x0 = x1\n",
    "        it += 1\n",
    "    error=np.abs(x1-x0)\n",
    "    if it>maxIter:\n",
    "        print(f\"no converge en {maxIter} y el error es {error}\")\n",
    "    else:\n",
    "       return x1, it, error"
   ]
  },
  {
   "cell_type": "code",
   "execution_count": 5,
   "id": "85d34ae0-355a-4277-8888-f144747607ac",
   "metadata": {},
   "outputs": [],
   "source": [
    "import cmath \n",
    "\n",
    "def Metodo_Muller(f, x0, x1, x2, maxIter=100, eps=1e-6):\n",
    "    \"\"\"\n",
    "    Método de Müller para encontrar una raíz de f con estructura similar a Newton-Raphson.\n",
    "    f: función a evaluar (puede devolver valores complejos)\n",
    "    x0, x1, x2: valores iniciales (reales o complejos)\n",
    "    \"\"\"\n",
    "    it = 0\n",
    "    x3 = x2 + 2 * eps  # Inicialización forzada para que entre al bucle\n",
    "   \n",
    "    while it <= maxIter and  np.abs(x3 - x2) > eps:\n",
    "        h1 = x1 - x0\n",
    "        h2 = x2 - x1\n",
    "        d1 = (f(x1) - f(x0)) / h1\n",
    "        d2 = (f(x2) - f(x1)) / h2\n",
    "        a = (d2 - d1) / (h2 + h1)\n",
    "        b = a * h2 + d2\n",
    "        c = f(x2)\n",
    "\n",
    "        raiz = cmath.sqrt(b**2 - 4 * a * c)\n",
    "\n",
    "        # Calculamos los dos posibles denominadores\n",
    "        denom1 = b + raiz\n",
    "        denom2 = b - raiz\n",
    "        \n",
    "        # Elegimos el de mayor valor absoluto (para evitar cancelación)\n",
    "        if abs(denom1) > abs(denom2):\n",
    "            denom = denom1\n",
    "        else:\n",
    "            denom = denom2\n",
    "            \n",
    "        if denom == 0:\n",
    "            print(\"División por cero. El método falla.\")\n",
    "            return None\n",
    "\n",
    "        dx = -2 * c / denom\n",
    "        x3 = x2 + dx\n",
    "\n",
    "        # Actualizamos para la siguiente iteración\n",
    "        x0, x1, x2 = x1, x2, x3\n",
    "        it += 1\n",
    "    np.abs(x3 - x2)\n",
    "    if it>maxIter:\n",
    "        print(f\"no converge en {maxIter} y el error es {error}\")\n",
    "    else:\n",
    "       return x3, it, error\n"
   ]
  },
  {
   "cell_type": "markdown",
   "id": "93862089-1a9f-4556-8f1d-68070b6f4317",
   "metadata": {},
   "source": [
    "1)Metodo de matrices , ver viernes con atuel\n",
    "\n",
    "\n"
   ]
  },
  {
   "cell_type": "code",
   "execution_count": 66,
   "id": "48e8ae52-f0d7-4678-ad8a-36c8d837bc13",
   "metadata": {},
   "outputs": [],
   "source": [
    "\n",
    "def metodo_gaus(A, b):\n",
    "    n = len(A)\n",
    "    \n",
    "    for k in range(0, n): \n",
    " \n",
    "        for i in range(k + 1, n): \n",
    "            A[i,k]/= A[k,k]  \n",
    "            \n",
    "            for j in range(k + 1, n):  \n",
    "                A[i,j] -=  A[i,k]* A[k,j]\n",
    "\n",
    "    return A\n",
    "\n",
    "\n",
    "\n",
    "\n",
    "\n",
    "\n",
    "\n",
    "\"\"\"\n",
    "FOR RAROS EN SUSTITUCION\n",
    "\"\"\"\n",
    "def Sustitucion1(A, B):\n",
    "    \"\"\"\n",
    "    Realiza dos fases:\n",
    "    1. Sustitución hacia adelante para resolver Ly = b\n",
    "    2. Sustitución hacia atrás para resolver Ux = y\n",
    "   \"\"\"\n",
    "    n=len(A)\n",
    "    x = [0] * n  \n",
    "    \n",
    "    x[0] = B[0]\n",
    "\n",
    "    for i in range(1, n):  \n",
    "        suma = 0\n",
    "        \n",
    "        for j in range(0, i):  \n",
    "            suma += A[i,j] * x[j]\n",
    "            \n",
    "        x[i] = B[i] - suma  \n",
    "        \n",
    "\n",
    "\n",
    "    \n",
    "\n",
    "    \n",
    "    x[n - 1] /=  A[n - 1,n - 1]  \n",
    "\n",
    "    for i in range(n - 2, -1, -1):  \n",
    "        suma = 0\n",
    "        \n",
    "        for j in range(i + 1, n):  \n",
    "            suma += A[i,j] * x[j]\n",
    "\n",
    "        x[i] = (x[i] - suma) / A[i,i] \n",
    "       \n",
    "    return x\n",
    "\n",
    "\n"
   ]
  },
  {
   "cell_type": "code",
   "execution_count": 49,
   "id": "30c2377d-819b-4b70-aea9-8d9b0944e184",
   "metadata": {},
   "outputs": [],
   "source": [
    "def triangulacionParcial(A, b):\n",
    "    n=len(b)\n",
    "    for k in range(n):\n",
    "\n",
    "        # Pivoteo parcial por columna\n",
    "        max_row = k + np.argmax(np.abs(A[k:n, k]))\n",
    "        \n",
    "        if max_row != k:\n",
    "        # Intercambio de filas en A y b\n",
    "            A[[k, max_row]] = A[[max_row, k]]\n",
    "            b[[k, max_row]] = b[[max_row, k]]\n",
    "\n",
    "\n",
    "        # Eliminación hacia abajo (igual que triangulación simple)\n",
    "        for i in range(k + 1, n):\n",
    "            A[i][k] /= A[k][k]\n",
    "            for j in range(k + 1, n):\n",
    "                A[i][j] -= A[i][k] * A[k][j]\n",
    "\n",
    " \n",
    "\n",
    "    return A, b\n",
    "\n",
    "\n",
    "\n"
   ]
  },
  {
   "cell_type": "code",
   "execution_count": 50,
   "id": "41a46ff1-cccf-4d54-bcd1-6d893882beff",
   "metadata": {},
   "outputs": [],
   "source": [
    "def triangulacionParcialEscalada(A, b): #mejor metodo\n",
    "    s=np.max(np.abs(A), axis=1)  # factores de escala\n",
    "    n=len(A)\n",
    "    for k in range(n):\n",
    "        # Buscar el índice con el mayor cociente relativo, de aca para \n",
    "        max_ratio = -1\n",
    "        max_row = k\n",
    "        \n",
    "        for i in range(k, n):\n",
    "            \n",
    "           \n",
    "                \n",
    "            ratio = np.abs(A[i][k]) / s[i]\n",
    "            \n",
    "            if ratio > max_ratio:\n",
    "                max_ratio = ratio\n",
    "                max_row = i\n",
    "\n",
    "        # Intercambio de filas \n",
    "        if max_row != k:\n",
    "            # Solo hago el intercambio si la fila con el pivote máximo\n",
    "           \n",
    "            A[[k, max_row]] = A[[max_row, k]]\n",
    "            b[[k, max_row]] = b[[max_row, k]]\n",
    "            s[[k, max_row]] = s[[max_row, k]]\n",
    "\n",
    "        \n",
    "        \n",
    "        \n",
    "        #igual que en triangulacion simple\n",
    "        for i in range(k + 1, n):\n",
    "            A[i][k] /= A[k][k]\n",
    "            for j in range(k + 1, n):\n",
    "                A[i][j] -= A[i][k] * A[k][j]\n",
    "        \n",
    "    \n",
    "        \n",
    "\n",
    "    return A,b\n",
    "\n",
    "\n"
   ]
  },
  {
   "cell_type": "code",
   "execution_count": 51,
   "id": "f4695220-9ecf-4891-a915-f15503726e8d",
   "metadata": {},
   "outputs": [],
   "source": [
    "def gaussJordan(A,b):\n",
    "\n",
    "    n=len(A)\n",
    "    \n",
    "    \n",
    "    return b"
   ]
  },
  {
   "cell_type": "code",
   "execution_count": 52,
   "id": "8faa9d5a-9532-4947-89fe-0ba4a8c5706d",
   "metadata": {},
   "outputs": [
    {
     "name": "stdout",
     "output_type": "stream",
     "text": [
      "\n",
      "Gauss: [1.0, -8.0, 2.0]\n",
      "Parcial: [1.0, -8.0, 2.0]\n",
      "Escalada: [1.0, -8.0, 2.0]\n"
     ]
    }
   ],
   "source": [
    "import numpy as np\n",
    "\n",
    "A1 = np.array([\n",
    "    [5, 2, 3],\n",
    "    [0, -2, 4],\n",
    "    [0, 0, 3]\n",
    "], dtype=float)\n",
    "b1 = np.array([-5, 24, 6], dtype=float)\n",
    "\n",
    "x1_gauss = metodo_gaus(A1.copy(), b1.copy())\n",
    "x1_parcial = triangulacionParcial(A1.copy(), b1.copy())\n",
    "x1_escalada = triangulacionParcialEscalada(A1.copy(), b1.copy())\n",
    "print(\"\\nGauss:\", x1_gauss)\n",
    "print(\"Parcial:\", x1_parcial)\n",
    "print(\"Escalada:\", x1_escalada)"
   ]
  },
  {
   "cell_type": "code",
   "execution_count": 65,
   "id": "12122251-2b15-4ded-8c43-2d8ad9cdb104",
   "metadata": {},
   "outputs": [
    {
     "name": "stdout",
     "output_type": "stream",
     "text": [
      "[0.8, -0.2]\n",
      "[-0.6000000000000001, 0.4]\n"
     ]
    }
   ],
   "source": [
    "# Matriz A\n",
    "A = np.array([[2, 3],\n",
    "              [1, 4]], dtype=float)\n",
    "A=metodo_gaus(A,b)\n",
    "b=np.array([1,0], dtype=float)\n",
    "bb=np.array([0,1], dtype=float)\n",
    "x=Sustitucion1(A,b)\n",
    "y=Sustitucion1(A,bb)\n",
    "print(x)\n",
    "print(y)"
   ]
  },
  {
   "cell_type": "code",
   "execution_count": 53,
   "id": "90468a2b-6dfe-42d8-83e7-75bb4f975d15",
   "metadata": {},
   "outputs": [
    {
     "name": "stdout",
     "output_type": "stream",
     "text": [
      "\n",
      "Gauss: [3.0, 1.0, 2.0]\n",
      "Parcial: [3.0, 0.9999999999999998, 1.9999999999999998]\n",
      "Escalada: [3.0, 1.0, 2.0]\n"
     ]
    }
   ],
   "source": [
    "import numpy as np\n",
    "\n",
    "A2 = np.array([\n",
    "    [2, 0, 0],\n",
    "    [1, 1, 0],\n",
    "    [3, -2, 4]\n",
    "], dtype=float)\n",
    "b2 = np.array([6, 4, 15], dtype=float)\n",
    "x2_gauss = metodo_gaus(A2.copy(), b2.copy())\n",
    "x2_parcial = triangulacionParcial(A2.copy(), b2.copy())\n",
    "x2_escalada = triangulacionParcialEscalada(A2.copy(), b2.copy())\n",
    "print(\"\\nGauss:\", x2_gauss)\n",
    "print(\"Parcial:\", x2_parcial)\n",
    "print(\"Escalada:\", x2_escalada)"
   ]
  },
  {
   "cell_type": "code",
   "execution_count": 54,
   "id": "ed6c143e-96cb-4b60-9a41-cf9ef0ad4912",
   "metadata": {},
   "outputs": [
    {
     "name": "stdout",
     "output_type": "stream",
     "text": [
      "\n",
      "Gauss: [1.0, 1.0, 1.0]\n",
      "Parcial: [1.0, 1.0, 1.0]\n",
      "Escalada: [1.0, 1.0, 1.0]\n"
     ]
    }
   ],
   "source": [
    "import numpy as np\n",
    "A3 = np.array([\n",
    "    [2, -1, -1],\n",
    "    [0, 2, 1],\n",
    "    [-1, 1, 0.5]\n",
    "], dtype=float)\n",
    "b3 = np.array([0, 3, 0.5], dtype=float)\n",
    "\n",
    "\n",
    "x3_gauss = metodo_gaus(A3.copy(), b3.copy())\n",
    "x3_parcial = triangulacionParcial(A3.copy(), b3.copy())\n",
    "x3_escalada = triangulacionParcialEscalada(A3.copy(), b3.copy())\n",
    "\n",
    "\n",
    "\n",
    "\n",
    "\n",
    "print(\"\\nGauss:\", x3_gauss)\n",
    "print(\"Parcial:\", x3_parcial)\n",
    "print(\"Escalada:\", x3_escalada)\n",
    "\n",
    "\n",
    "\n"
   ]
  },
  {
   "cell_type": "code",
   "execution_count": 55,
   "id": "e476fe92-87c8-4793-a7de-a55d92fe089a",
   "metadata": {},
   "outputs": [
    {
     "name": "stdout",
     "output_type": "stream",
     "text": [
      "\n",
      "Gauss: [-0.06666666666666643, -0.5999999999999996, 0.7333333333333331, -1.2]\n",
      "Parcial: [-0.06666666666666665, -0.6000000000000001, 0.7333333333333334, -1.2]\n",
      "Escalada: [-0.06666666666666665, -0.6000000000000001, 0.7333333333333334, -1.2]\n"
     ]
    }
   ],
   "source": [
    "import numpy as np\n",
    "A4 = np.array([\n",
    "    [1, -1, -1, -1],\n",
    "    [1,  0,  2,  2],\n",
    "    [1,  1,  2, -1],\n",
    "    [-1, 3,  1,  0]\n",
    "], dtype=float)\n",
    "b4 = np.array([1, -1, 2, -1], dtype=float)\n",
    "n4 = 4\n",
    "\n",
    "\n",
    "x4_gauss = metodo_gaus(A4.copy(), b4.copy())\n",
    "x4_parcial = triangulacionParcial(A4.copy(), b4.copy())\n",
    "x4_escalada = triangulacionParcialEscalada(A4.copy(), b4.copy())\n",
    "\n",
    "\n",
    "\n",
    "\n",
    "\n",
    "\n",
    "print(\"\\nGauss:\", x4_gauss)\n",
    "print(\"Parcial:\", x4_parcial)\n",
    "print(\"Escalada:\", x4_escalada)\n"
   ]
  },
  {
   "cell_type": "code",
   "execution_count": 56,
   "id": "ab161fc4-ce6d-4c5a-bd97-687df7c6c867",
   "metadata": {},
   "outputs": [
    {
     "name": "stdout",
     "output_type": "stream",
     "text": [
      "\n",
      "Gauss: [nan, nan, nan]\n",
      "Parcial: [-0.19999999999999998, 0.1714285714285714, -0.14285714285714285]\n",
      "Escalada: [-0.19999999999999998, 0.1714285714285714, -0.14285714285714285]\n"
     ]
    },
    {
     "name": "stderr",
     "output_type": "stream",
     "text": [
      "C:\\Windows\\Temp\\ipykernel_12660\\3080565259.py:7: RuntimeWarning: divide by zero encountered in scalar divide\n",
      "  A[i,k]/= A[k,k]\n",
      "C:\\Windows\\Temp\\ipykernel_12660\\3080565259.py:70: RuntimeWarning: invalid value encountered in scalar divide\n",
      "  x[n - 1] /=  A[n - 1,n - 1]\n"
     ]
    }
   ],
   "source": [
    "import numpy as np\n",
    "A5 = np.array([\n",
    "    [2, -6, -3],\n",
    "    [-1, 3, -2],\n",
    "    [3, 1, -3]\n",
    "], dtype=float)\n",
    "b5 = np.array([-1, 1, 0], dtype=float)\n",
    "n5 = 3\n",
    "\n",
    "x5_gauss = metodo_gaus(A5.copy(), b5.copy())\n",
    "x5_parcial = triangulacionParcial(A5.copy(), b5.copy())\n",
    "x5_escalada = triangulacionParcialEscalada(A5.copy(), b5.copy())\n",
    "\n",
    "\n",
    "\n",
    "print(\"\\nGauss:\", x5_gauss)\n",
    "print(\"Parcial:\", x5_parcial)\n",
    "print(\"Escalada:\", x5_escalada)\n"
   ]
  },
  {
   "cell_type": "code",
   "execution_count": 57,
   "id": "69998bcf-97f6-4100-a181-ab871f75252a",
   "metadata": {},
   "outputs": [
    {
     "name": "stdout",
     "output_type": "stream",
     "text": [
      "\n",
      "Gauss: [1.3010752688172043, -0.741935483870968, 2.053763440860215]\n",
      "Parcial: [1.3010752688172045, -0.7419354838709676, 2.053763440860215]\n",
      "Escalada: [1.3010752688172045, -0.7419354838709676, 2.053763440860215]\n",
      "\n",
      "\n"
     ]
    }
   ],
   "source": [
    "import numpy as np\n",
    "\n",
    "A6 = np.array([\n",
    "    [4, -1, 1],\n",
    "    [1, -2, 4],\n",
    "    [2, 5, 2]\n",
    "], dtype=float)\n",
    "b6 = np.array([8, 11, 3], dtype=float)\n",
    "n6 = 3\n",
    "\n",
    "x6_gauss = metodo_gaus(A6.copy(), b6.copy())\n",
    "x6_parcial = triangulacionParcial(A6.copy(), b6.copy())\n",
    "x6_escalada = triangulacionParcialEscalada(A6.copy(), b6.copy())\n",
    "\n",
    "\n",
    "print(\"\\nGauss:\", x6_gauss)\n",
    "print(\"Parcial:\", x6_parcial)\n",
    "print(\"Escalada:\", x6_escalada)\n",
    "print(\"\\n\")\n",
    "\n",
    "\n"
   ]
  },
  {
   "cell_type": "code",
   "execution_count": 58,
   "id": "18830ffc-e57a-4631-a80d-0d0f1052a5ae",
   "metadata": {},
   "outputs": [
    {
     "name": "stdout",
     "output_type": "stream",
     "text": [
      "Solución: [ 1.30107527 -0.74193548  2.05376344]\n"
     ]
    }
   ],
   "source": [
    "import numpy as np\n",
    "from scipy.linalg import lu, solve_triangular\n",
    "\n",
    "A7 = np.array([\n",
    "    [4, -1, 1],\n",
    "    [1, -2, 4],\n",
    "    [2, 5, 2]\n",
    "], dtype=float)\n",
    "b6 = np.array([8, 11, 3], dtype=float)\n",
    "\n",
    "# Descomposición LU con pivoteo parcial (por defecto)\n",
    "P, L, U = lu(A7, permute_l=False)# si saco permute hace el pivoteo\n",
    "\n",
    "# Paso 1: resolver Ly = P @ b\n",
    "y = solve_triangular(L, P @ b6, lower=True)\n",
    "\n",
    "# Paso 2: resolver Ux = y\n",
    "x = solve_triangular(U, y, lower=False)\n",
    "\n",
    "print(\"Solución:\", x)"
   ]
  },
  {
   "cell_type": "code",
   "execution_count": 172,
   "id": "b8a1f31f-0f2a-4b04-a761-3fdbeb0465ae",
   "metadata": {},
   "outputs": [
    {
     "ename": "NameError",
     "evalue": "name 'A' is not defined",
     "output_type": "error",
     "traceback": [
      "\u001b[1;31m---------------------------------------------------------------------------\u001b[0m",
      "\u001b[1;31mNameError\u001b[0m                                 Traceback (most recent call last)",
      "Cell \u001b[1;32mIn[172], line 3\u001b[0m\n\u001b[0;32m      1\u001b[0m \u001b[38;5;28;01mfrom\u001b[39;00m \u001b[38;5;21;01mscipy\u001b[39;00m\u001b[38;5;21;01m.\u001b[39;00m\u001b[38;5;21;01mlinalg\u001b[39;00m \u001b[38;5;28;01mimport\u001b[39;00m cholesky\n\u001b[1;32m----> 3\u001b[0m L \u001b[38;5;241m=\u001b[39m cholesky(A, lower\u001b[38;5;241m=\u001b[39m\u001b[38;5;28;01mTrue\u001b[39;00m)  \u001b[38;5;66;03m# Triangular inferior L, tal que A = L L^T\u001b[39;00m\n\u001b[0;32m      5\u001b[0m \u001b[38;5;66;03m# Resolver sistema con Cholesky:\u001b[39;00m\n\u001b[0;32m      6\u001b[0m y \u001b[38;5;241m=\u001b[39m np\u001b[38;5;241m.\u001b[39mlinalg\u001b[38;5;241m.\u001b[39msolve(L, b)\n",
      "\u001b[1;31mNameError\u001b[0m: name 'A' is not defined"
     ]
    }
   ],
   "source": [
    "\n",
    "from scipy.linalg import cholesky\n",
    "\n",
    "L = cholesky(A, lower=True)  # Triangular inferior L, tal que A = L L^T\n",
    "\n",
    "# Resolver sistema con Cholesky:\n",
    "y = np.linalg.solve(L, b)\n",
    "x = np.linalg.solve(L.T, y)\n",
    "\n",
    "from scipy.linalg import lu, lu_factor, lu_solve\n",
    "\n",
    "P, L, U = lu(A)  # P es matriz de permutación, L y U son triangulares\n",
    "\n",
    "# Usar lu_factor y lu_solve para resolver sistemas eficientemente:\n",
    "lu_piv = lu_factor(A)\n",
    "x = lu_solve(lu_piv, b)\n",
    "\n",
    "\n",
    "\n",
    "# Inversa (solo matrices cuadradas y no singulares)\n",
    "A_inv = np.linalg.inv(A)\n",
    "\n",
    "# Determinante\n",
    "det = np.linalg.det(A)\n",
    "\n",
    "# Transpuesta\n",
    "A_T = A.T\n",
    "# condicion de A\n",
    "cond_a = np.linalg.cond(A, p=np.inf)"
   ]
  },
  {
   "cell_type": "code",
   "execution_count": 51,
   "id": "3e63896a-8924-4908-8524-fd17f90a1346",
   "metadata": {},
   "outputs": [],
   "source": [
    "#nuevo\n",
    "def MatrizDiagonalmenteDominante(A):\n",
    "    n=len(A)\n",
    "    for i in range(n):\n",
    "        suma=0\n",
    "        \n",
    "        for j in range(n):\n",
    "            if(i!=j):\n",
    "                suma+=np.abs(A[i,j])\n",
    "                \n",
    "        if(np.abs(A[i,i])<suma):        \n",
    "            return False\n",
    "            \n",
    "    return True\n",
    "\n",
    "def MatrizSimetrica(A):\n",
    "    n=len(A)\n",
    "    for i in range(n):\n",
    "        for j in range(n):\n",
    "            if A[i,j]!=A[j,i]:\n",
    "                return False\n",
    "\n",
    "    return True\n",
    "\n",
    "\n",
    "def MatrizDefinidaPositiva(A, tolerancia):\n",
    "    # Calcula los autovalores\n",
    "    Autovalores = np.linalg.eigvals(A)\n",
    "    # Devuelve True si todos los autovalores son > 0\n",
    "    return np.all(Autovalores > tolerancia)"
   ]
  },
  {
   "cell_type": "code",
   "execution_count": 23,
   "id": "a742720a-28f4-4e50-9c07-64e01d2f0138",
   "metadata": {},
   "outputs": [],
   "source": [
    "import numpy as np\n",
    "#cholensky pide que sea simetrica y definida positiva para usarlo\n",
    "def metodo_Cholensky(A):\n",
    "    n = len(A)\n",
    "    L = np.zeros_like(A)\n",
    "\n",
    "    for i in range(n):\n",
    "        for j in range(i + 1):\n",
    "            suma = 0\n",
    "            for k in range(j):\n",
    "                suma += L[i, k] * L[j, k]\n",
    "        \n",
    "            if i == j:\n",
    "                L[i, j] = (A[i, i] - suma) ** 0.5\n",
    "            else:\n",
    "                L[i, j] = (A[i, j] - suma) / L[j, j]\n",
    "    \"\"\"#opcional\n",
    "    C= np.zeros_like(A)\n",
    "    for i in range(0, n):\n",
    "        for j in range(0, n):\n",
    "            if i != j:\n",
    "                C[i, j] += L[i, j] + L.T[i, j]\n",
    "            else:\n",
    "                C[i, j] = L[i, j]\n",
    "    return C\n",
    "    \"\"\"\n",
    "    return L"
   ]
  },
  {
   "cell_type": "code",
   "execution_count": null,
   "id": "bd71050e-5e4d-459e-82ab-44fe8d74a53e",
   "metadata": {},
   "outputs": [],
   "source": [
    "import numpy as np\n",
    "#cholensky pide que sea simetrica y definida positiva para usarlo\n",
    "def metodo_Cholensky2(A):\n",
    "    n = len(A)\n",
    "    L = np.zeros_like(A)\n",
    "\n",
    "    for i in range(n):\n",
    "        for j in range(i + 1):\n",
    "            suma = 0\n",
    "            for k in range(j):\n",
    "                suma += A[i, k] * A[j, k]\n",
    "        \n",
    "            if i == j:\n",
    "                A[i, j] = (A[i, i] - suma) ** 0.5\n",
    "            else:\n",
    "                A[i, j] = (A[i, j] - suma) / A[j, j]\n",
    "\n",
    "    for i in range(n):\n",
    "        for j in range(n):\n",
    "            if j>i:\n",
    "                A[i,j]=A[j,i] \n",
    "    return A"
   ]
  },
  {
   "cell_type": "code",
   "execution_count": 24,
   "id": "668bbedf-43a7-48fe-8642-5cb190be47e0",
   "metadata": {},
   "outputs": [
    {
     "name": "stdout",
     "output_type": "stream",
     "text": [
      "[[ 2.44948974  0.81649658  0.40824829  0.40824829]\n",
      " [ 0.81649658  1.82574186  0.36514837 -0.18257419]\n",
      " [ 0.40824829  0.36514837  1.92353841 -0.57186277]\n",
      " [ 0.40824829 -0.18257419 -0.57186277  0.68773031]]\n"
     ]
    }
   ],
   "source": [
    "import numpy as np\n",
    "\n",
    "A = np.array([\n",
    "    [6, 2, 1, 1],\n",
    "    [2, 4, 1, 0],\n",
    "    [1, 1, 4, -1],\n",
    "    [1, 0, -1, 1]\n",
    "], dtype=float)\n",
    "\n",
    "print(metodo_Cholensky(A))"
   ]
  },
  {
   "cell_type": "code",
   "execution_count": 16,
   "id": "32c2c879-e6ab-4bd3-aca1-a339347d5e45",
   "metadata": {},
   "outputs": [
    {
     "name": "stdout",
     "output_type": "stream",
     "text": [
      "[[ 2.44948974  2.          1.          1.        ]\n",
      " [ 0.81649658  1.82574186  1.          0.        ]\n",
      " [ 0.40824829  0.36514837  1.92353841 -1.        ]\n",
      " [ 0.40824829 -0.18257419 -0.57186277  0.68773031]]\n"
     ]
    }
   ],
   "source": [
    "import numpy as np\n",
    "\n",
    "A = np.array([\n",
    "    [6, 2, 1, 1],\n",
    "    [2, 4, 1, 0],\n",
    "    [1, 1, 4, -1],\n",
    "    [1, 0, -1, 1]\n",
    "], dtype=float)\n",
    "\n",
    "print(metodo_Cholensky(A))"
   ]
  },
  {
   "cell_type": "code",
   "execution_count": 14,
   "id": "7841ba65-6345-4811-90ff-1d7491ff161a",
   "metadata": {},
   "outputs": [
    {
     "name": "stdout",
     "output_type": "stream",
     "text": [
      "[[ 2.44948974  0.          0.          0.        ]\n",
      " [ 0.81649658  1.82574186  0.          0.        ]\n",
      " [ 0.40824829  0.36514837  1.92353841  0.        ]\n",
      " [ 0.40824829 -0.18257419 -0.57186277  0.68773031]]\n"
     ]
    }
   ],
   "source": [
    "import numpy as np\n",
    "\n",
    "A = np.array([\n",
    "    [6, 2, 1, 1],\n",
    "    [2, 4, 1, 0],\n",
    "    [1, 1, 4, -1],\n",
    "    [1, 0, -1, 1]\n",
    "], dtype=float)\n",
    "\n",
    "print(metodo_Cholensky(A))"
   ]
  },
  {
   "cell_type": "code",
   "execution_count": 67,
   "id": "64f6ca1f-1408-479f-ac99-c3b15a18f62a",
   "metadata": {},
   "outputs": [],
   "source": [
    "#thomas?\n",
    "\n",
    "\n",
    "def thomas(dInf, dPrin, dSup):\n",
    "    n=len(dPrin)\n",
    "    for i in range(n):\n",
    "        dSup[i-1]/=dPrin[i-1] #valores de U\n",
    "        dPrin[i-1]-=(dInf[i-1]*dSup[i-1])\n",
    "    return dInf, dPrin, dSup"
   ]
  },
  {
   "cell_type": "code",
   "execution_count": 120,
   "id": "d3701066-847d-4fa9-8114-f4846a192027",
   "metadata": {},
   "outputs": [],
   "source": [
    "import numpy as np\n",
    "#converge si es diagonalmente dominante\n",
    "def jacobi(A, b, max_Iter, eps):\n",
    "    #mido la longuitud de la matriz y creo 2 una nueva y vieja\n",
    "    it=0\n",
    "    n = len(A)\n",
    "    x_old = np.zeros(n)\n",
    "    x_new = np.zeros(n)\n",
    "    error = 10000000\n",
    "    \n",
    "    while( it<=max_Iter and error>eps ):\n",
    "            \n",
    "        for i in range(n):\n",
    "                \n",
    "            suma = 0.0\n",
    "                \n",
    "            for j in range(n):\n",
    "                    \n",
    "                if j != i: \n",
    "                    suma += A[i][j] * x_old[j]\n",
    "                        \n",
    "            x_new[i] = (b[i] - suma) / A[i][i]\n",
    "           \n",
    "        \n",
    "        error = np.linalg.norm(x_new - x_old, ord=np.inf)\n",
    "        x_old[:] = x_new\n",
    "        it+=1\n",
    "    if it>max_Iter:\n",
    "        print(f\"no converge en maxIter {max_Iter}; la aproximacion que llego es {x_new} error = {error:.6f}\")\n",
    "    else:\n",
    "        print(\"it:\",it)\n",
    "        return x_new, error\n",
    " "
   ]
  },
  {
   "cell_type": "code",
   "execution_count": 121,
   "id": "51876e48-1287-4915-a1e7-a6209ef676f5",
   "metadata": {},
   "outputs": [],
   "source": [
    "#converge si es diagonalmente dominante, definida positiva, simetrica\n",
    "def GaussSeidel(A, b, max_Iter, eps):\n",
    "    n = len(b)\n",
    "    x_old = np.zeros(n)\n",
    "    x_new = np.zeros(n)\n",
    "    error = 10000000\n",
    "    it=0\n",
    "    while( it<=max_Iter and error>eps ):\n",
    "        for i in range(n):\n",
    "            suma = 0.0\n",
    "            \n",
    "                \n",
    "            for j in range(i):\n",
    "                suma += A[i, j] * x_new[j]\n",
    "            \n",
    "            \n",
    "            for j in range(i + 1, n):\n",
    "                suma += A[i, j] * x_old[j]\n",
    "            \n",
    "            x_new[i] = (b[i] - suma) / A[i, i]\n",
    "    \n",
    "            \n",
    "        error = np.linalg.norm(x_new - x_old, ord=np.inf)\n",
    "        \n",
    "        x_old[:] = x_new\n",
    "        \n",
    "        it+=1\n",
    "        \n",
    "    if it>max_Iter:\n",
    "        print(f\"no converge en maxIter {max_Iter}; la aproximacion que llego es {x_new} error = {error:.6f}\")\n",
    "    else:\n",
    "        print(\"it:\",it)\n",
    "        return x_new, error\n",
    "    "
   ]
  },
  {
   "cell_type": "code",
   "execution_count": 123,
   "id": "440f3a21-48f5-400e-abd9-e2aed8ce74b8",
   "metadata": {},
   "outputs": [],
   "source": [
    "def SOR(A, b, max_Iter, eps, omega):\n",
    "    n = len(b)\n",
    "    x_old = np.zeros(n)\n",
    "    x_new = np.zeros(n)\n",
    "    error = float(\"inf\")\n",
    "    it=0\n",
    "    while( it<=max_Iter and error>eps ):\n",
    "        for i in range(n):\n",
    "            suma = 0.0\n",
    "\n",
    "            \n",
    "            for j in range(i):\n",
    "                suma += A[i][j] * x_new[j]\n",
    "\n",
    "            \n",
    "            for j in range(i+1, n):\n",
    "                suma += A[i][j] * x_old[j]\n",
    "\n",
    "            \n",
    "            x_i_old = x_old[i]\n",
    "            x_new[i] = (1 - omega) * x_i_old + (omega * (b[i] - suma)) / A[i][i]\n",
    "\n",
    "        error = np.linalg.norm(x_new - x_old, ord=np.inf)\n",
    "        x_old[:] = x_new\n",
    "        \n",
    "        it+=1\n",
    "        \n",
    "    if it>max_Iter:\n",
    "        print(f\"no converge en maxIter {max_Iter}; la aproximacion que llego es {x_new} error = {error:.6f}\")\n",
    "    else:\n",
    "        print(\"it:\",it)\n",
    "        return x_new, error\n",
    "    "
   ]
  },
  {
   "cell_type": "code",
   "execution_count": 125,
   "id": "534b414c-0b3e-4edd-a050-23ed224aa9f8",
   "metadata": {},
   "outputs": [
    {
     "name": "stdout",
     "output_type": "stream",
     "text": [
      "it: 17\n",
      "(array([ 0.62000079, -0.76000119,  0.03000154]), 6.05960001087702e-06)\n",
      "it: 11\n",
      "(array([ 0.61999844, -0.76000038,  0.03000064]), 3.0430831141625703e-06)\n",
      "it: 13\n",
      "(array([ 0.61999944, -0.75999805,  0.03000067]), 6.829590648682604e-06)\n"
     ]
    }
   ],
   "source": [
    "A11 = np.array([\n",
    "    [2, -1,  0],\n",
    "    [1,  6, -2],\n",
    "    [4, -3,  8]\n",
    "], dtype=float)\n",
    "\n",
    "# Vector de términos independientes b\n",
    "b11 = np.array([2, -4, 5], dtype=float)\n",
    "\n",
    "\n",
    "print(jacobi(A11, b11, 40, 10**-5))\n",
    "print(GaussSeidel(A11, b11, 40, 10**-5))\n",
    "print(SOR(A11, b11, 40, 10**-5, 1.1))"
   ]
  },
  {
   "cell_type": "code",
   "execution_count": null,
   "id": "dbdd8052-b9cf-4de7-ad66-8fa105729f33",
   "metadata": {},
   "outputs": [],
   "source": [
    "#probar metodos iterativos"
   ]
  },
  {
   "cell_type": "code",
   "execution_count": 131,
   "id": "6108dc13-4e14-4238-947f-c604ddec96ac",
   "metadata": {},
   "outputs": [],
   "source": [
    "#nuevo\n",
    "def lagrange(dato, x):\n",
    "    resultado = 0\n",
    "    n = len(dato)\n",
    "\n",
    "    for i in range(n):\n",
    "        mult = 1\n",
    "        for j in range(n):\n",
    "            if j != i:\n",
    "                mult *= (x - dato[j][0]) / (dato[i][0] - dato[j][0])\n",
    "        resultado += dato[i][1] * mult\n",
    "\n",
    "    return resultado"
   ]
  },
  {
   "cell_type": "code",
   "execution_count": 132,
   "id": "3119aa53-0baa-4b7e-b23d-83b7139e3bea",
   "metadata": {},
   "outputs": [],
   "source": [
    "def DifDiv(x,d):\n",
    "    n=len(x)\n",
    "    d = d.copy() \n",
    "    for i in range(1,n):\n",
    "        for j in range(n-1,i-1,-1):\n",
    "            d[j]=(d[j]-d[j-1])/(x[j]-x[j-i])\n",
    "    return d\n",
    "    "
   ]
  },
  {
   "cell_type": "code",
   "execution_count": 163,
   "id": "22063c03-0f73-4ecf-9a16-a446d0b2e7b6",
   "metadata": {},
   "outputs": [],
   "source": [
    "def newton_interpolante(x_data, y_data, x):\n",
    "    \n",
    "    coef = DifDiv(x_data, y_data)\n",
    "    n = len(coef)\n",
    "    p = coef[-1]\n",
    "    for k in range(n - 2, -1, -1):\n",
    "        \n",
    "        \n",
    "        p = p * (x - x_data[k]) + coef[k]\n",
    "        \n",
    "    return p"
   ]
  },
  {
   "cell_type": "code",
   "execution_count": 171,
   "id": "3f065fa5-957f-4e5d-83fd-b6405602592f",
   "metadata": {},
   "outputs": [
    {
     "name": "stdout",
     "output_type": "stream",
     "text": [
      "580.5999999999999\n",
      "580.6\n"
     ]
    }
   ],
   "source": [
    "# Datos\n",
    "\n",
    "x_data = [2, 4, 6, 7, -4]\n",
    "y_data = [40, 278, 980, 1430, -242]\n",
    "\n",
    "\n",
    "\n",
    "p = newton_interpolante(x_data, y_data,5)\n",
    "print(p)\n",
    "\n",
    "dato = [(4, 278), (-4, -242), (7, 1430), (6, 980), (2, 40)]\n",
    "x_eval = 5\n",
    "print(lagrange(dato, x_eval))\n"
   ]
  },
  {
   "cell_type": "code",
   "execution_count": 11,
   "id": "5d4308d6-640b-4c3f-bb42-31d9e95cc4cf",
   "metadata": {},
   "outputs": [
    {
     "data": {
      "image/png": "[encoded data removed]",
      "text/plain": [
       "<Figure size 640x480 with 1 Axes>"
      ]
     },
     "metadata": {},
     "output_type": "display_data"
    },
    {
     "data": {
      "text/plain": [
       "\"\\nLa función CubicSpline(x, y, bc_type='natural') crea una interpolación suave entre los puntos dados usando polinomios cúbicos por tramos. Es parte de scipy.interpolate.\\n\\n🔹 Parámetros de entrada:\\nx: array con los valores del eje independiente (ordenados).\\n\\ny: array con los valores del eje dependiente (función evaluada en cada x).\\n\\nbc_type: define las condiciones de frontera.\\n\\n'natural' (por defecto): la segunda derivada es cero en los extremos.\\n\\n'clamped': se dan derivadas en los extremos.\\n\\n🔹 Resultado:\\nDevuelve un objeto tipo función, que:\\n\\nPodés usar como spline(valor) para obtener f(valor).\\n\\nTambién podés evaluar derivadas: spline(valor, nu=1) para la primera derivada, nu=2 para la segunda, etc.\\n\""
      ]
     },
     "execution_count": 11,
     "metadata": {},
     "output_type": "execute_result"
    }
   ],
   "source": [
    "import numpy as np\n",
    "from scipy.interpolate import CubicSpline\n",
    "import matplotlib.pyplot as plt\n",
    "\"graficar con cubicspline\"\n",
    "x = np.array([0.9, 1.3, 1.9, 2.1, 2.6, 3.0, 3.9, 4.4, 4.7, 5.0, 6.0, 7.0,\n",
    "              8.0, 9.2, 10.5, 11.3, 11.6, 12.0, 12.6, 13.0, 13.3])\n",
    "y = np.array([1.3, 1.5, 1.85, 2.1, 2.6, 2.7, 2.4, 2.15, 2.05, 2.1,\n",
    "              2.25, 2.3, 2.25, 1.95, 1.4, 0.9, 0.7, 0.6, 0.5, 0.4, 0.25])\n",
    "\n",
    "spline = CubicSpline(x, y,bc_type='natural')#invoco metodo\n",
    "\n",
    "x_fino = np.linspace(min(x), max(x), 500)\n",
    "\n",
    "y_fino = spline(x_fino)\n",
    "\n",
    "\n",
    "plt.plot(x_fino, y_fino, '-', label='Spline cúbico')\n",
    "plt.title(\"funcion interpolada por cubic spline\")\n",
    "plt.xlabel(\"x\")\n",
    "plt.ylabel(\"f(x)\")\n",
    "plt.legend()\n",
    "plt.show()\n",
    "\"\"\"\n",
    "La función CubicSpline(x, y, bc_type='natural') crea una interpolación suave entre los puntos dados usando polinomios cúbicos por tramos. Es parte de scipy.interpolate.\n",
    "\n",
    "🔹 Parámetros de entrada:\n",
    "x: array con los valores del eje independiente (ordenados).\n",
    "\n",
    "y: array con los valores del eje dependiente (función evaluada en cada x).\n",
    "\n",
    "bc_type: define las condiciones de frontera.\n",
    "\n",
    "'natural' (por defecto): la segunda derivada es cero en los extremos.\n",
    "\n",
    "'clamped': se dan derivadas en los extremos.\n",
    "\n",
    "🔹 Resultado:\n",
    "Devuelve un objeto tipo función, que:\n",
    "\n",
    "Podés usar como spline(valor) para obtener f(valor).\n",
    "\n",
    "También podés evaluar derivadas: spline(valor, nu=1) para la primera derivada, nu=2 para la segunda, etc.\n",
    "\"\"\"\n"
   ]
  },
  {
   "cell_type": "code",
   "execution_count": null,
   "id": "b7dd0e76-90e6-49cd-af49-efb5536a6f53",
   "metadata": {},
   "outputs": [],
   "source": [
    "#interpolación Polinómica Segmentaria\n"
   ]
  },
  {
   "cell_type": "code",
   "execution_count": 85,
   "id": "92c1efb1-d31c-4f88-90b6-517b2cdfea1a",
   "metadata": {},
   "outputs": [],
   "source": [
    "#corregirlo hacer que reciba un arreglo de las f(x)\n",
    "\n",
    "def trapecio(f,a,b): #error= -f''(eta)*((b-a)**3/12)\n",
    "    return (b-a)*(f(a)+f(b))/2\n",
    "\n",
    "def rectangulo(f,a,b): #error= f'(eta)*((b-a)**2/2)\n",
    "    return (b-a)*f(a)\n",
    "\n",
    "def simpson(f,a,b):#error= -f**4(eta)*((b-a)**5/2880)\n",
    "    c=(b+a)/2\n",
    "    return (b-a)*(f(a)+4*f(c)+f(b))/6\n",
    "\n",
    "\n",
    "def Trapecio_Compuesto(fx,a,b):#error= -f''(eta)*((b-a)*h**2/12)   h=(b-a)/2\n",
    "    h=(b-a)/(len(fx)-1)\n",
    "    suma=f(x[0])\n",
    "\n",
    "    n=len(x)\n",
    "    for i in range(1, n-1):\n",
    "    \n",
    "        suma+=2*fx[i]\n",
    "    \n",
    "    suma+=fx[n-1]\n",
    "    return (h/2)*suma\n",
    "\n",
    "def Simpson_Compuesto(fx,a,b):#error= -f**4(eta)*((b-a)*h**4/180)\n",
    "\n",
    "    n=len(x)\n",
    "    h=(b-a)/(n-1)\n",
    "    suma=fx[0]\n",
    "\n",
    "    \n",
    "    for i in range(1, n-1):\n",
    "        if(i%2==0):\n",
    "            suma+=2*fx[i]\n",
    "        else:\n",
    "            suma+=4*fx[i]\n",
    "            \n",
    "    suma+=fx[n-1]\n",
    "    return (h/3)*suma"
   ]
  },
  {
   "cell_type": "code",
   "execution_count": 173,
   "id": "f9278df6-1a73-47cf-b561-3993fc44997a",
   "metadata": {},
   "outputs": [],
   "source": [
    "def romberg(f, a, b, eps=1e-6, max_iter=10):\n",
    "    \"\"\"\n",
    "    Calcula la integral definida de la función f en el intervalo [a, b] \n",
    "    usando el método de integración de Romberg.\n",
    "\n",
    "    Parámetros:\n",
    "    -----------\n",
    "    f : función\n",
    "        La función a integrar, debe ser evaluable como f(x).\n",
    "    a : float\n",
    "        Extremo inferior del intervalo de integración.\n",
    "    b : float\n",
    "        Extremo superior del intervalo de integración.\n",
    "    eps : float, opcional\n",
    "        Tolerancia del error para la convergencia (default 1e-6).\n",
    "    max_iter : int, opcional\n",
    "        Número máximo de iteraciones permitidas (default 10).\n",
    "\n",
    "    Retorna:\n",
    "    --------\n",
    "    float\n",
    "        Aproximación de la integral definida de f entre a y b.\n",
    "\n",
    "    Descripción:\n",
    "    ------------\n",
    "    El método de Romberg combina la regla del trapecio compuesto con la\n",
    "    extrapolación de Richardson para mejorar la precisión de la integral. \n",
    "    Se construye una matriz triangular con aproximaciones de la integral en\n",
    "    distintos niveles de refinamiento y se usa la extrapolación para acelerar\n",
    "    la convergencia.\n",
    "\n",
    "    La iteración termina cuando la diferencia entre dos estimaciones\n",
    "    consecutivas es menor que eps o cuando se alcanza el máximo número\n",
    "    de iteraciones.\n",
    "\n",
    "    \"\"\"\n",
    "    R = np.zeros((max_iter, max_iter))  # Matriz para almacenar las aproximaciones\n",
    "    h = b - a\n",
    "    # Primera estimación con un solo trapecio\n",
    "    R[0, 0] = (h / 2) * (f(a) + f(b))\n",
    "\n",
    "    it = 1\n",
    "    error = float('inf')\n",
    "\n",
    "    while it < max_iter and error > eps:\n",
    "        h /= 2  # Se reduce el tamaño del paso a la mitad\n",
    "        suma = 0\n",
    "        num_puntos = 2**(it - 1)  # Número de puntos nuevos a evaluar\n",
    "        for i in range(1, num_puntos + 1):\n",
    "            x = a + (2*i - 1)*h  # Puntos medios de los subintervalos\n",
    "            suma += f(x)\n",
    "\n",
    "        # Cálculo del trapecio compuesto refinado\n",
    "        R[it, 0] = 0.5 * R[it - 1, 0] + h * suma\n",
    "\n",
    "        # Extrapolación de Richardson para mejorar la aproximación\n",
    "        for k in range(1, it + 1):\n",
    "            numerador = (4**k) * R[it, k - 1] - R[it - 1, k - 1]\n",
    "            denominador = 4**k - 1\n",
    "            R[it, k] = numerador / denominador\n",
    "\n",
    "        # Error estimado: diferencia entre dos estimaciones consecutivas\n",
    "        error = abs(R[it, it] - R[it - 1, it - 1])\n",
    "        it += 1\n",
    "\n",
    "    if it >= max_iter and error > eps:\n",
    "        print(f\"No converge en maxIter {max_iter}; la aproximación que llegó es {R[it-1, it-1]} con error = {error:.6e}\")\n",
    "    else:\n",
    "        print(f\"Convergió en {it-1} iteraciones con error = {error:.6e}\")\n",
    "        return R[it - 1, it - 1]"
   ]
  },
  {
   "cell_type": "code",
   "execution_count": null,
   "id": "a0e2b29d-c6d3-4406-acf9-57c9ae3f0e21",
   "metadata": {},
   "outputs": [],
   "source": [
    "#nuevo conocerse nodos y puntos\n",
    "def CuadraturaDeGauss(f,a,b coef, nodos):\n",
    "   \"\"\"\n",
    "    Aproxima la integral definida de la función f en el intervalo [a, b]\n",
    "    usando la cuadratura de Gauss con nodos y coeficientes dados.\n",
    "\n",
    "    Parámetros:\n",
    "    -----------\n",
    "    f : función\n",
    "        La función a integrar, debe ser evaluable como f(x).\n",
    "    a, b : float\n",
    "        Límites inferior y superior de integración.\n",
    "    coef : lista o array de floats\n",
    "        Coeficientes de peso para la cuadratura de Gauss.\n",
    "    nodos : lista o array de floats\n",
    "        Puntos nodales en el intervalo [-1, 1] donde se evalúa la función.\n",
    "\n",
    "    Retorna:\n",
    "    --------\n",
    "    float\n",
    "        Aproximación de la integral definida de f en [a, b].\n",
    "\n",
    "    Descripción:\n",
    "    ------------\n",
    "    La cuadratura de Gauss transforma los nodos del intervalo [-1, 1]\n",
    "    al intervalo [a, b], evalúa la función en estos puntos y pondera\n",
    "    cada valor con su coeficiente correspondiente. Finalmente, se escala\n",
    "    el resultado para el intervalo original.\n",
    "\n",
    "    \"\"\"\n",
    "    suma = 0\n",
    "    n = len(nodos)\n",
    "    \n",
    "    for i in range(n):\n",
    "        # Transformación del nodo al intervalo [a, b]\n",
    "        x = (b - a) / 2 * nodos[i] + (b + a) / 2\n",
    "        suma += coef[i] * f(x)\n",
    "    \n",
    "    return ((b - a) / 2) * suma"
   ]
  },
  {
   "cell_type": "code",
   "execution_count": 1,
   "id": "3b288cc4-5cac-45e9-8966-c384ff962534",
   "metadata": {},
   "outputs": [
    {
     "ename": "NameError",
     "evalue": "name 'x' is not defined",
     "output_type": "error",
     "traceback": [
      "\u001b[1;31m---------------------------------------------------------------------------\u001b[0m",
      "\u001b[1;31mNameError\u001b[0m                                 Traceback (most recent call last)",
      "Cell \u001b[1;32mIn[1], line 3\u001b[0m\n\u001b[0;32m      1\u001b[0m \u001b[38;5;66;03m#graficar puntos discretos\u001b[39;00m\n\u001b[0;32m      2\u001b[0m \u001b[38;5;28;01mimport\u001b[39;00m \u001b[38;5;21;01mmatplotlib\u001b[39;00m\u001b[38;5;21;01m.\u001b[39;00m\u001b[38;5;21;01mpyplot\u001b[39;00m \u001b[38;5;28;01mas\u001b[39;00m \u001b[38;5;21;01mplt\u001b[39;00m\n\u001b[1;32m----> 3\u001b[0m plt\u001b[38;5;241m.\u001b[39mscatter(x, y, label\u001b[38;5;241m=\u001b[39m\u001b[38;5;124m'\u001b[39m\u001b[38;5;124mPuntos\u001b[39m\u001b[38;5;124m'\u001b[39m)\n\u001b[0;32m      4\u001b[0m plt\u001b[38;5;241m.\u001b[39mxlabel(\u001b[38;5;124m'\u001b[39m\u001b[38;5;124mx\u001b[39m\u001b[38;5;124m'\u001b[39m)\n\u001b[0;32m      5\u001b[0m plt\u001b[38;5;241m.\u001b[39mylabel(\u001b[38;5;124m'\u001b[39m\u001b[38;5;124my\u001b[39m\u001b[38;5;124m'\u001b[39m)\n",
      "\u001b[1;31mNameError\u001b[0m: name 'x' is not defined"
     ]
    }
   ],
   "source": [
    "#graficar puntos discretos\n",
    "import matplotlib.pyplot as plt\n",
    "plt.scatter(x, y, label='Puntos')\n",
    "plt.xlabel('x')\n",
    "plt.ylabel('y')\n",
    "plt.legend(\"hola\")\n",
    "plt.show()"
   ]
  },
  {
   "cell_type": "code",
   "execution_count": null,
   "id": "5b9eecbf-6d09-400a-a993-48fcb7e4d057",
   "metadata": {},
   "outputs": [],
   "source": [
    "#graficar una funcion conectando puntos\n",
    "plt.plot(x_fino, y_fino, '-', label='Curva')\n",
    "plt.xlabel('x')\n",
    "plt.ylabel('f(x)')\n",
    "plt.legend()\n",
    "plt.show()\n",
    "#plot conecta puntos"
   ]
  },
  {
   "cell_type": "code",
   "execution_count": 192,
   "id": "8572a603-bfee-4c63-b16a-d19da59dc278",
   "metadata": {},
   "outputs": [
    {
     "name": "stderr",
     "output_type": "stream",
     "text": [
      "C:\\Windows\\Temp\\ipykernel_1948\\3533863009.py:14: UserWarning: No artists with labels found to put in legend.  Note that artists whose label start with an underscore are ignored when legend() is called with no argument.\n",
      "  plt.legend()\n"
     ]
    },
    {
     "data": {
      "image/png": "[encoded data removed]",
      "text/plain": [
       "<Figure size 640x480 with 1 Axes>"
      ]
     },
     "metadata": {},
     "output_type": "display_data"
    }
   ],
   "source": [
    "#una funcion\n",
    "import numpy as np\n",
    "import matplotlib.pyplot as plt\n",
    "def f3(x):\n",
    "    return x**2\n",
    "aa=-11\n",
    "bb=20\n",
    "x3 = np.linspace(aa, bb, 500)  # dominio\n",
    "y3= f3(x3)                    # evalúo función\n",
    "\n",
    "plt.plot(x3, y3) #que seria si pongo '-' y label='nombre'\n",
    "plt.xlabel('x')\n",
    "plt.ylabel('f(x)')\n",
    "#plt.legend() para que es?\n",
    "plt.show()"
   ]
  },
  {
   "cell_type": "code",
   "execution_count": 2,
   "id": "868f9ffd-633b-427a-a814-3a0672cd2d53",
   "metadata": {},
   "outputs": [
    {
     "data": {
      "image/png": "[encoded data removed]",
      "text/plain": [
       "<Figure size 640x480 with 1 Axes>"
      ]
     },
     "metadata": {},
     "output_type": "display_data"
    }
   ],
   "source": [
    "#soluciones de matrices\n",
    "import numpy as np\n",
    "import matplotlib.pyplot as plt\n",
    "\n",
    "# Supongamos que tenemos soluciones para diferentes valores de un parámetro t\n",
    "t = np.linspace(0, 10, 100)\n",
    "\n",
    "# Ejemplo: soluciones hipotéticas para x1, x2, x3 según t\n",
    "x1 = np.sin(t)\n",
    "x2 = np.cos(t)\n",
    "x3 = t / 10\n",
    "\n",
    "plt.plot(t, x1, label='x1(t)')\n",
    "plt.plot(t, x2, label='x2(t)')\n",
    "plt.plot(t, x3, label='x3(t)')\n",
    "plt.xlabel('t')\n",
    "plt.ylabel('Valores de x')\n",
    "plt.legend(\"hola\")\n",
    "plt.title('Soluciones variables según parámetro t')\n",
    "plt.show()\n"
   ]
  },
  {
   "cell_type": "code",
   "execution_count": 8,
   "id": "e7663f02-9955-4fa3-8c76-ac0586c44d2f",
   "metadata": {},
   "outputs": [
    {
     "data": {
      "image/png": "[encoded data removed]",
      "text/plain": [
       "<Figure size 640x480 with 1 Axes>"
      ]
     },
     "metadata": {},
     "output_type": "display_data"
    }
   ],
   "source": [
    "import numpy as np\n",
    "import matplotlib.pyplot as plt\n",
    "\n",
    "f = lambda x: x**3 - x - 2\n",
    "x_vals = np.linspace(0, 1.1, 600)\n",
    "\n",
    "plt.plot(x_vals, f(x_vals), label=\"f(x) = x³ - x - 2\")\n",
    "\n",
    "plt.xlabel(\"x\")\n",
    "plt.ylabel(\"f(x)\")\n",
    "plt.title(\"Newton-Raphson en f(x) = x³ - x - 2\")\n",
    "plt.legend()\n",
    "plt.grid(True)\n",
    "plt.show()\n"
   ]
  },
  {
   "cell_type": "code",
   "execution_count": null,
   "id": "b26d04de-2456-4b9e-935e-5d0dbdda76d9",
   "metadata": {},
   "outputs": [],
   "source": []
  }
 ],
 "metadata": {
  "kernelspec": {
   "display_name": "Python 3 (ipykernel)",
   "language": "python",
   "name": "python3"
  },
  "language_info": {
   "codemirror_mode": {
    "name": "ipython",
    "version": 3
   },
   "file_extension": ".py",
   "mimetype": "text/x-python",
   "name": "python",
   "nbconvert_exporter": "python",
   "pygments_lexer": "ipython3",
   "version": "3.12.7"
  }
 },
 "nbformat": 4,
 "nbformat_minor": 5
}
